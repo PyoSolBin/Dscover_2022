{
  "cells": [
    {
      "cell_type": "markdown",
      "id": "9ad88f3e",
      "metadata": {
        "id": "9ad88f3e"
      },
      "source": [
        "# Multiclass SVM 구현"
      ]
    },
    {
      "cell_type": "code",
      "execution_count": null,
      "id": "1ee53277",
      "metadata": {
        "colab": {
          "base_uri": "https://localhost:8080/"
        },
        "id": "1ee53277",
        "outputId": "f0185bc7-3b03-434b-d095-d8d9f0cf43ee"
      },
      "outputs": [
        {
          "output_type": "stream",
          "name": "stdout",
          "text": [
            "0         setosa\n",
            "1         setosa\n",
            "2         setosa\n",
            "3         setosa\n",
            "4         setosa\n",
            "         ...    \n",
            "145    virginica\n",
            "146    virginica\n",
            "147    virginica\n",
            "148    virginica\n",
            "149    virginica\n",
            "Name: species, Length: 150, dtype: object\n"
          ]
        }
      ],
      "source": [
        "import numpy as np\n",
        "import pandas as pd\n",
        "import matplotlib.pyplot as plt\n",
        "import seaborn as sns\n",
        "from sklearn.svm import SVC\n",
        "from sklearn.model_selection import train_test_split\n",
        "from sklearn.pipeline import Pipeline\n",
        "from sklearn.preprocessing import StandardScaler\n",
        "from sklearn.metrics import accuracy_score\n",
        "\n",
        "#IRIS 데이터 로드\n",
        "iris =  sns.load_dataset('iris') \n",
        "X= iris.iloc[:,:4] #학습할데이터\n",
        "y = iris.iloc[:,-1] #타겟\n",
        "print(y)"
      ]
    },
    {
      "cell_type": "code",
      "execution_count": null,
      "id": "57c67bc8",
      "metadata": {
        "id": "57c67bc8"
      },
      "outputs": [],
      "source": [
        "X_train, X_test, y_train, y_test = train_test_split(X, y, test_size=0.2, random_state=48)"
      ]
    },
    {
      "cell_type": "code",
      "execution_count": null,
      "id": "88a4203d",
      "metadata": {
        "id": "88a4203d"
      },
      "outputs": [],
      "source": [
        "def standardization(train, test):\n",
        "    scaler = StandardScaler()\n",
        "    train = scaler.fit_transform(train)\n",
        "    test = scaler.transform(test)\n",
        "    return train, test\n",
        "\n",
        "X_train, X_test = standardization(X_train, X_test)"
      ]
    },
    {
      "cell_type": "code",
      "execution_count": null,
      "id": "403590f5",
      "metadata": {
        "colab": {
          "base_uri": "https://localhost:8080/"
        },
        "id": "403590f5",
        "outputId": "931de7dc-a193-40ee-bffa-2f7121f054fe"
      },
      "outputs": [
        {
          "output_type": "execute_result",
          "data": {
            "text/plain": [
              "array([[ 0.78522493,  0.32015325,  0.77221097,  1.04726529],\n",
              "       [-0.26563371, -1.29989934,  0.0982814 , -0.11996537],\n",
              "       [ 0.43493872,  0.78302542,  0.94069336,  1.43634218],\n",
              "       [-0.84944407,  0.78302542, -1.24957775, -1.28719604],\n",
              "       [-0.38239578, -1.7627715 ,  0.15444219,  0.13941922],\n",
              "       [ 0.55170079, -0.374155  ,  1.05301496,  0.7878807 ],\n",
              "       [ 0.31817664, -0.14271892,  0.65988937,  0.7878807 ],\n",
              "       [ 0.20141457, -0.374155  ,  0.43524618,  0.39880381],\n",
              "       [-1.66677857, -0.14271892, -1.36189934, -1.28719604],\n",
              "       [-0.14887164, -0.60559109,  0.21060299,  0.13941922],\n",
              "       [-0.14887164, -1.06846325, -0.12636179, -0.24965767],\n",
              "       [ 0.31817664, -0.60559109,  0.15444219,  0.13941922],\n",
              "       [ 0.66846286, -0.83702717,  0.88453256,  0.91757299],\n",
              "       [ 0.0846525 , -0.14271892,  0.77221097,  0.7878807 ],\n",
              "       [-0.49915786, -0.14271892,  0.43524618,  0.39880381],\n",
              "       [-0.26563371, -0.60559109,  0.65988937,  1.04726529],\n",
              "       [ 2.18636979,  1.70876975,  1.67078373,  1.30664988],\n",
              "       [-0.49915786,  1.94020584, -1.13725615, -1.02781144],\n",
              "       [-0.96620614,  1.0144615 , -1.36189934, -1.15750374],\n",
              "       [ 1.60255943,  0.32015325,  1.27765815,  0.7878807 ],\n",
              "       [-0.84944407,  1.70876975, -1.02493456, -1.02781144],\n",
              "       [ 0.901987  , -0.14271892,  0.37908538,  0.26911151],\n",
              "       [-1.19973028,  0.78302542, -1.02493456, -1.28719604],\n",
              "       [-0.61591993,  1.47733367, -1.24957775, -1.28719604],\n",
              "       [-0.49915786,  1.47733367, -1.24957775, -1.28719604],\n",
              "       [-0.03210957, -0.83702717,  0.77221097,  0.91757299],\n",
              "       [-1.31649236,  0.32015325, -1.19341695, -1.28719604],\n",
              "       [ 1.25227322,  0.08871717,  0.94069336,  1.17695758],\n",
              "       [-1.08296821,  0.08871717, -1.24957775, -1.41688833],\n",
              "       [-1.08296821, -1.29989934,  0.43524618,  0.6581884 ],\n",
              "       [ 0.43493872, -0.374155  ,  0.32292459,  0.13941922],\n",
              "       [ 1.60255943,  1.24589758,  1.33381894,  1.69572677],\n",
              "       [ 0.31817664, -0.374155  ,  0.54756778,  0.26911151],\n",
              "       [ 1.83608357, -0.60559109,  1.33381894,  0.91757299],\n",
              "       [-0.03210957, -0.83702717,  0.0982814 ,  0.00972692],\n",
              "       [ 0.20141457, -1.99420759,  0.71605017,  0.39880381],\n",
              "       [ 1.01874907,  0.08871717,  1.05301496,  1.56603447],\n",
              "       [-0.84944407,  1.0144615 , -1.30573855, -1.15750374],\n",
              "       [-0.14887164, -0.14271892,  0.26676379,  0.00972692],\n",
              "       [-0.38239578, -1.53133542,  0.0421206 , -0.11996537],\n",
              "       [ 0.55170079, -1.29989934,  0.71605017,  0.91757299],\n",
              "       [ 1.48579736, -0.14271892,  1.22149735,  1.17695758],\n",
              "       [-0.38239578, -1.06846325,  0.37908538,  0.00972692],\n",
              "       [-0.96620614, -1.7627715 , -0.23868339, -0.24965767],\n",
              "       [ 1.25227322,  0.08871717,  0.77221097,  1.43634218],\n",
              "       [ 0.66846286, -0.60559109,  1.05301496,  1.17695758],\n",
              "       [ 0.43493872, -1.99420759,  0.43524618,  0.39880381],\n",
              "       [-0.14887164, -0.60559109,  0.43524618,  0.13941922],\n",
              "       [-0.732682  , -0.83702717,  0.0982814 ,  0.26911151],\n",
              "       [ 2.06960772, -0.14271892,  1.61462293,  1.17695758],\n",
              "       [ 1.13551115, -0.60559109,  0.60372857,  0.26911151],\n",
              "       [-0.84944407, -1.29989934, -0.40716578, -0.11996537],\n",
              "       [-0.14887164, -1.29989934,  0.71605017,  1.04726529],\n",
              "       [ 0.66846286, -0.374155  ,  0.32292459,  0.13941922],\n",
              "       [ 1.01874907,  0.08871717,  0.37908538,  0.26911151],\n",
              "       [-0.26563371, -0.83702717,  0.26676379,  0.13941922],\n",
              "       [ 1.25227322,  0.08871717,  0.65988937,  0.39880381],\n",
              "       [-0.84944407,  0.55158933, -1.13725615, -0.89811915],\n",
              "       [-1.08296821, -0.14271892, -1.30573855, -1.28719604],\n",
              "       [ 0.20141457, -0.83702717,  0.77221097,  0.52849611],\n",
              "       [-1.08296821, -1.53133542, -0.23868339, -0.24965767],\n",
              "       [-0.03210957,  2.17164192, -1.41806014, -1.28719604],\n",
              "       [-0.96620614,  1.0144615 , -1.19341695, -0.76842685],\n",
              "       [ 0.55170079, -0.83702717,  0.65988937,  0.7878807 ],\n",
              "       [ 1.7193215 , -0.374155  ,  1.44614054,  0.7878807 ],\n",
              "       [-0.732682  ,  2.403078  , -1.24957775, -1.41688833],\n",
              "       [-0.14887164,  3.09738625, -1.24957775, -1.02781144],\n",
              "       [ 1.13551115, -0.14271892,  0.99685416,  1.17695758],\n",
              "       [-1.43325443,  0.08871717, -1.24957775, -1.28719604],\n",
              "       [-0.03210957, -0.83702717,  0.21060299, -0.24965767],\n",
              "       [ 1.01874907, -0.14271892,  0.82837177,  1.43634218],\n",
              "       [ 1.36903529,  0.32015325,  0.54756778,  0.26911151],\n",
              "       [-0.96620614,  0.32015325, -1.41806014, -1.28719604],\n",
              "       [-0.96620614,  0.78302542, -1.24957775, -1.28719604],\n",
              "       [ 0.55170079,  0.55158933,  1.27765815,  1.69572677],\n",
              "       [ 2.18636979, -0.60559109,  1.67078373,  1.04726529],\n",
              "       [ 0.0846525 , -0.14271892,  0.26676379,  0.39880381],\n",
              "       [-1.31649236,  0.32015325, -1.36189934, -1.28719604],\n",
              "       [ 0.66846286,  0.32015325,  0.88453256,  1.43634218],\n",
              "       [-0.96620614,  0.78302542, -1.19341695, -1.02781144],\n",
              "       [ 0.20141457,  0.78302542,  0.43524618,  0.52849611],\n",
              "       [-1.19973028, -0.14271892, -1.30573855, -1.41688833],\n",
              "       [ 1.01874907,  0.55158933,  1.10917575,  1.17695758],\n",
              "       [ 0.78522493, -0.60559109,  0.49140698,  0.39880381],\n",
              "       [-1.43325443,  1.24589758, -1.53038174, -1.28719604],\n",
              "       [-0.03210957, -0.60559109,  0.77221097,  1.56603447],\n",
              "       [-1.78354064, -0.14271892, -1.47422094, -1.41688833],\n",
              "       [ 1.01874907, -1.29989934,  1.16533655,  0.7878807 ],\n",
              "       [-1.08296821,  1.24589758, -1.30573855, -1.41688833],\n",
              "       [-0.49915786,  1.94020584, -1.36189934, -1.02781144],\n",
              "       [-1.43325443,  0.32015325, -1.30573855, -1.28719604],\n",
              "       [-0.03210957, -0.83702717,  0.77221097,  0.91757299],\n",
              "       [ 0.55170079, -0.60559109,  0.77221097,  0.39880381],\n",
              "       [-0.96620614,  0.55158933, -1.30573855, -1.28719604],\n",
              "       [ 2.41989393,  1.70876975,  1.50230134,  1.04726529],\n",
              "       [-1.66677857,  0.32015325, -1.36189934, -1.28719604],\n",
              "       [-1.19973028, -0.14271892, -1.30573855, -1.15750374],\n",
              "       [ 1.01874907,  0.55158933,  1.10917575,  1.69572677],\n",
              "       [-0.96620614, -2.45707976, -0.12636179, -0.24965767],\n",
              "       [-0.732682  ,  1.0144615 , -1.24957775, -1.28719604],\n",
              "       [ 2.18636979, -1.06846325,  1.78310533,  1.43634218],\n",
              "       [ 1.13551115,  0.32015325,  1.22149735,  1.43634218],\n",
              "       [-0.96620614, -0.14271892, -1.19341695, -1.28719604],\n",
              "       [-0.84944407,  1.47733367, -1.24957775, -1.02781144],\n",
              "       [ 2.18636979, -0.14271892,  1.33381894,  1.43634218],\n",
              "       [-0.14887164,  1.70876975, -1.13725615, -1.15750374],\n",
              "       [-0.26563371, -0.14271892,  0.43524618,  0.39880381],\n",
              "       [-1.19973028,  0.08871717, -1.19341695, -1.28719604],\n",
              "       [ 0.78522493, -0.14271892,  1.16533655,  1.30664988],\n",
              "       [ 0.901987  , -0.374155  ,  0.49140698,  0.13941922],\n",
              "       [-0.732682  ,  0.78302542, -1.30573855, -1.28719604],\n",
              "       [-0.84944407,  1.70876975, -1.19341695, -1.28719604],\n",
              "       [-1.43325443,  0.78302542, -1.30573855, -1.15750374],\n",
              "       [-0.03210957, -1.06846325,  0.15444219,  0.00972692],\n",
              "       [-1.08296821,  0.08871717, -1.24957775, -1.28719604],\n",
              "       [-0.26563371, -0.374155  , -0.070201  ,  0.13941922],\n",
              "       [ 0.31817664, -0.14271892,  0.49140698,  0.26911151],\n",
              "       [-0.38239578, -1.53133542, -0.0140402 , -0.24965767],\n",
              "       [ 0.66846286,  0.32015325,  0.43524618,  0.39880381],\n",
              "       [-0.84944407,  1.0144615 , -1.30573855, -1.28719604]])"
            ]
          },
          "metadata": {},
          "execution_count": 4
        }
      ],
      "source": [
        "X_train"
      ]
    },
    {
      "cell_type": "code",
      "execution_count": null,
      "id": "9861d8a6",
      "metadata": {
        "colab": {
          "base_uri": "https://localhost:8080/"
        },
        "id": "9861d8a6",
        "outputId": "77468db8-4957-47d2-a6b6-20599eb62049"
      },
      "outputs": [
        {
          "output_type": "execute_result",
          "data": {
            "text/plain": [
              "array([[-0.14887164, -0.374155  ,  0.26676379,  0.13941922],\n",
              "       [ 0.31817664, -0.60559109,  0.54756778,  0.00972692],\n",
              "       [ 0.31817664, -1.06846325,  1.05301496,  0.26911151],\n",
              "       [-1.5500165 , -1.7627715 , -1.36189934, -1.15750374],\n",
              "       [ 0.0846525 ,  0.32015325,  0.60372857,  0.7878807 ],\n",
              "       [ 0.78522493, -0.14271892,  0.99685416,  0.7878807 ],\n",
              "       [-0.84944407,  1.70876975, -1.24957775, -1.15750374],\n",
              "       [ 0.20141457, -0.14271892,  0.60372857,  0.7878807 ],\n",
              "       [-0.38239578,  2.63451409, -1.30573855, -1.28719604],\n",
              "       [-0.38239578, -1.29989934,  0.15444219,  0.13941922],\n",
              "       [ 0.66846286,  0.08871717,  0.99685416,  0.7878807 ],\n",
              "       [-0.38239578,  1.0144615 , -1.36189934, -1.28719604],\n",
              "       [-0.49915786,  0.78302542, -1.13725615, -1.28719604],\n",
              "       [ 0.43493872, -0.60559109,  0.60372857,  0.7878807 ],\n",
              "       [ 0.55170079, -1.7627715 ,  0.37908538,  0.13941922],\n",
              "       [ 0.55170079,  0.55158933,  0.54756778,  0.52849611],\n",
              "       [-1.19973028,  0.78302542, -1.19341695, -1.28719604],\n",
              "       [ 0.20141457, -1.99420759,  0.15444219, -0.24965767],\n",
              "       [ 0.55170079, -1.29989934,  0.65988937,  0.39880381],\n",
              "       [ 1.25227322,  0.32015325,  1.10917575,  1.43634218],\n",
              "       [-1.66677857, -0.374155  , -1.30573855, -1.28719604],\n",
              "       [ 0.78522493, -0.14271892,  0.82837177,  1.04726529],\n",
              "       [ 1.01874907, -0.14271892,  0.71605017,  0.6581884 ],\n",
              "       [ 1.01874907,  0.08871717,  0.54756778,  0.39880381],\n",
              "       [ 1.60255943, -0.14271892,  1.16533655,  0.52849611],\n",
              "       [-0.96620614,  1.24589758, -1.30573855, -1.28719604],\n",
              "       [-0.49915786,  0.78302542, -1.24957775, -1.02781144],\n",
              "       [ 0.55170079,  0.78302542,  1.05301496,  1.56603447],\n",
              "       [ 0.66846286, -0.60559109,  1.05301496,  1.30664988],\n",
              "       [-0.26563371, -0.14271892,  0.21060299,  0.13941922]])"
            ]
          },
          "metadata": {},
          "execution_count": 5
        }
      ],
      "source": [
        "X_test"
      ]
    },
    {
      "cell_type": "code",
      "execution_count": null,
      "id": "11719030",
      "metadata": {
        "id": "11719030"
      },
      "outputs": [],
      "source": [
        "scal = StandardScaler() #scaling\n",
        "X = scal.fit_transform(X)"
      ]
    },
    {
      "cell_type": "code",
      "source": [
        "# one hot encoding\n",
        "y_train = pd.get_dummies(y_train)"
      ],
      "metadata": {
        "id": "WqKLLEjCN2Vm"
      },
      "id": "WqKLLEjCN2Vm",
      "execution_count": null,
      "outputs": []
    },
    {
      "cell_type": "code",
      "source": [
        "y_train.head()"
      ],
      "metadata": {
        "colab": {
          "base_uri": "https://localhost:8080/",
          "height": 206
        },
        "id": "WBsFDxahOO-t",
        "outputId": "d14597ff-0010-4a76-e25c-d5112b49e6bf"
      },
      "id": "WBsFDxahOO-t",
      "execution_count": null,
      "outputs": [
        {
          "output_type": "execute_result",
          "data": {
            "text/plain": [
              "     setosa  versicolor  virginica\n",
              "110       0           0          1\n",
              "69        0           1          0\n",
              "148       0           0          1\n",
              "39        1           0          0\n",
              "53        0           1          0"
            ],
            "text/html": [
              "\n",
              "  <div id=\"df-d52b6fcf-b4b9-483c-9d89-c61a1c816efc\">\n",
              "    <div class=\"colab-df-container\">\n",
              "      <div>\n",
              "<style scoped>\n",
              "    .dataframe tbody tr th:only-of-type {\n",
              "        vertical-align: middle;\n",
              "    }\n",
              "\n",
              "    .dataframe tbody tr th {\n",
              "        vertical-align: top;\n",
              "    }\n",
              "\n",
              "    .dataframe thead th {\n",
              "        text-align: right;\n",
              "    }\n",
              "</style>\n",
              "<table border=\"1\" class=\"dataframe\">\n",
              "  <thead>\n",
              "    <tr style=\"text-align: right;\">\n",
              "      <th></th>\n",
              "      <th>setosa</th>\n",
              "      <th>versicolor</th>\n",
              "      <th>virginica</th>\n",
              "    </tr>\n",
              "  </thead>\n",
              "  <tbody>\n",
              "    <tr>\n",
              "      <th>110</th>\n",
              "      <td>0</td>\n",
              "      <td>0</td>\n",
              "      <td>1</td>\n",
              "    </tr>\n",
              "    <tr>\n",
              "      <th>69</th>\n",
              "      <td>0</td>\n",
              "      <td>1</td>\n",
              "      <td>0</td>\n",
              "    </tr>\n",
              "    <tr>\n",
              "      <th>148</th>\n",
              "      <td>0</td>\n",
              "      <td>0</td>\n",
              "      <td>1</td>\n",
              "    </tr>\n",
              "    <tr>\n",
              "      <th>39</th>\n",
              "      <td>1</td>\n",
              "      <td>0</td>\n",
              "      <td>0</td>\n",
              "    </tr>\n",
              "    <tr>\n",
              "      <th>53</th>\n",
              "      <td>0</td>\n",
              "      <td>1</td>\n",
              "      <td>0</td>\n",
              "    </tr>\n",
              "  </tbody>\n",
              "</table>\n",
              "</div>\n",
              "      <button class=\"colab-df-convert\" onclick=\"convertToInteractive('df-d52b6fcf-b4b9-483c-9d89-c61a1c816efc')\"\n",
              "              title=\"Convert this dataframe to an interactive table.\"\n",
              "              style=\"display:none;\">\n",
              "        \n",
              "  <svg xmlns=\"http://www.w3.org/2000/svg\" height=\"24px\"viewBox=\"0 0 24 24\"\n",
              "       width=\"24px\">\n",
              "    <path d=\"M0 0h24v24H0V0z\" fill=\"none\"/>\n",
              "    <path d=\"M18.56 5.44l.94 2.06.94-2.06 2.06-.94-2.06-.94-.94-2.06-.94 2.06-2.06.94zm-11 1L8.5 8.5l.94-2.06 2.06-.94-2.06-.94L8.5 2.5l-.94 2.06-2.06.94zm10 10l.94 2.06.94-2.06 2.06-.94-2.06-.94-.94-2.06-.94 2.06-2.06.94z\"/><path d=\"M17.41 7.96l-1.37-1.37c-.4-.4-.92-.59-1.43-.59-.52 0-1.04.2-1.43.59L10.3 9.45l-7.72 7.72c-.78.78-.78 2.05 0 2.83L4 21.41c.39.39.9.59 1.41.59.51 0 1.02-.2 1.41-.59l7.78-7.78 2.81-2.81c.8-.78.8-2.07 0-2.86zM5.41 20L4 18.59l7.72-7.72 1.47 1.35L5.41 20z\"/>\n",
              "  </svg>\n",
              "      </button>\n",
              "      \n",
              "  <style>\n",
              "    .colab-df-container {\n",
              "      display:flex;\n",
              "      flex-wrap:wrap;\n",
              "      gap: 12px;\n",
              "    }\n",
              "\n",
              "    .colab-df-convert {\n",
              "      background-color: #E8F0FE;\n",
              "      border: none;\n",
              "      border-radius: 50%;\n",
              "      cursor: pointer;\n",
              "      display: none;\n",
              "      fill: #1967D2;\n",
              "      height: 32px;\n",
              "      padding: 0 0 0 0;\n",
              "      width: 32px;\n",
              "    }\n",
              "\n",
              "    .colab-df-convert:hover {\n",
              "      background-color: #E2EBFA;\n",
              "      box-shadow: 0px 1px 2px rgba(60, 64, 67, 0.3), 0px 1px 3px 1px rgba(60, 64, 67, 0.15);\n",
              "      fill: #174EA6;\n",
              "    }\n",
              "\n",
              "    [theme=dark] .colab-df-convert {\n",
              "      background-color: #3B4455;\n",
              "      fill: #D2E3FC;\n",
              "    }\n",
              "\n",
              "    [theme=dark] .colab-df-convert:hover {\n",
              "      background-color: #434B5C;\n",
              "      box-shadow: 0px 1px 3px 1px rgba(0, 0, 0, 0.15);\n",
              "      filter: drop-shadow(0px 1px 2px rgba(0, 0, 0, 0.3));\n",
              "      fill: #FFFFFF;\n",
              "    }\n",
              "  </style>\n",
              "\n",
              "      <script>\n",
              "        const buttonEl =\n",
              "          document.querySelector('#df-d52b6fcf-b4b9-483c-9d89-c61a1c816efc button.colab-df-convert');\n",
              "        buttonEl.style.display =\n",
              "          google.colab.kernel.accessAllowed ? 'block' : 'none';\n",
              "\n",
              "        async function convertToInteractive(key) {\n",
              "          const element = document.querySelector('#df-d52b6fcf-b4b9-483c-9d89-c61a1c816efc');\n",
              "          const dataTable =\n",
              "            await google.colab.kernel.invokeFunction('convertToInteractive',\n",
              "                                                     [key], {});\n",
              "          if (!dataTable) return;\n",
              "\n",
              "          const docLinkHtml = 'Like what you see? Visit the ' +\n",
              "            '<a target=\"_blank\" href=https://colab.research.google.com/notebooks/data_table.ipynb>data table notebook</a>'\n",
              "            + ' to learn more about interactive tables.';\n",
              "          element.innerHTML = '';\n",
              "          dataTable['output_type'] = 'display_data';\n",
              "          await google.colab.output.renderOutput(dataTable, element);\n",
              "          const docLink = document.createElement('div');\n",
              "          docLink.innerHTML = docLinkHtml;\n",
              "          element.appendChild(docLink);\n",
              "        }\n",
              "      </script>\n",
              "    </div>\n",
              "  </div>\n",
              "  "
            ]
          },
          "metadata": {},
          "execution_count": 9
        }
      ]
    },
    {
      "cell_type": "markdown",
      "source": [
        "ONE vs REST multiclass SVM"
      ],
      "metadata": {
        "id": "VPDS4I3ySYWE"
      },
      "id": "VPDS4I3ySYWE"
    },
    {
      "cell_type": "code",
      "source": [
        "class OVR_SVM:\n",
        "    def __init__(self, n_classes=3):\n",
        "        self.n_classes = n_classes\n",
        "        self.clfs = []\n",
        "        self.y_pred = []\n",
        "    \n",
        "    # get_dumimise를 활용한 one hot encoding\n",
        "    def one_vs_rest_labels(self, y_train):\n",
        "        y_train = pd.get_dummies(y_train)\n",
        "        return y_train\n",
        "    \n",
        "    def fit(self, X_train, y_train, C=5, gamma=5):\n",
        "        y_encoded = self.one_vs_rest_labels(y_train)\n",
        "        \n",
        "        for i in range(self.n_classes):\n",
        "            clf = SVC(kernel='rbf', C=C, gamma=gamma)\n",
        "            clf.fit(X_train, y_encoded.iloc[:,i])\n",
        "            self.clfs.append(clf)\n",
        "\n",
        "    #  투표 진행, 가장 개수가 많은 클래스를 사용하는 방법\n",
        "    def predict(self, X_test):\n",
        "        vote = np.zeros((len(X_test), 3), dtype=int)\n",
        "        size = X_test.shape[0]\n",
        "        \n",
        "        for i in range(size):\n",
        "            # 해당 class에 포함된 샘플은 +1 만큼 나머지 샘플에 -1 만큼 더한다.\n",
        "            if self.clfs[0].predict(X_test)[i] == 1:\n",
        "                vote[i][0] += 1\n",
        "                vote[i][1] -= 1\n",
        "                vote[i][2] -= 1\n",
        "            elif self.clfs[1].predict(X_test)[i] == 1:\n",
        "                vote[i][0] -= 1\n",
        "                vote[i][1] += 1\n",
        "                vote[i][2] -= 1\n",
        "            elif self.clfs[2].predict(X_test)[i] == 1:\n",
        "                vote[i][0] -= 1\n",
        "                vote[i][1] -= 1\n",
        "                vote[i][2] += 1\n",
        "    \n",
        "            # 투표한 값 중 가장 큰 값의 인덱스를 test label에 넣는다\n",
        "            self.y_pred.append(np.argmax(vote[i]))\n",
        "            \n",
        "            # 경우의 수\n",
        "            # 1. 한 분류기의 투표 결과가 양수이고 나머지는 음수인 경우\n",
        "            # 2. 세 분류기의 투표 결과가 모두 0으로 같은 경우\n",
        "            # 3. 두 분류기의 투표 결과가 양수로 같은 경우\n",
        "            \n",
        "            # 2번째, 동점일 경우 decision_function의 값이 가장 큰 경우를 test label에 넣는다\n",
        "            if (np.sign(self.clfs[0].decision_function(X_test)[i]) == np.sign(self.clfs[1].decision_function(X_test)[i])) \\\n",
        "            and (np.sign(self.clfs[1].decision_function(X_test)[i]) == np.sign(self.clfs[2].decision_function(X_test)[i])):\n",
        "                self.y_pred[i] = np.argmax([self.clfs[0].decision_function(X_test)[i], self.clfs[1].decision_function(X_test)[i], self.clfs[2].decision_function(X_test)[i]])\n",
        "        \n",
        "            # 3번째, 두 분류기의 투표 결과가 양수로 같을 경우 decision_function의 값이 가장 큰 경우를 test label에 넣는다\n",
        "            elif (vote[i][0] == vote[i][1]) and vote[i][0] > 0 and vote[i][1] > 0:\n",
        "                self.y_pred[i] = np.argmax([self.clfs[0].decision_function(X_test)[i], self.clfs[1].decision_function(X_test)[i]])\n",
        "            elif (vote[i][0] == vote[i][2]) and vote[i][0] > 0 and vote[i][2] > 0:\n",
        "                self.y_pred[i] = np.argmax([self.clfs[0].decision_function(X_test)[i], self.clfs[2].decision_function(X_test)[i]])\n",
        "            elif (vote[i][1] == vote[i][2]) and vote[i][1] > 0 and vote[i][2] > 0:\n",
        "                self.y_pred[i] = np.argmax([self.clfs[1].decision_function(X_test)[i], self.clfs[2].decision_function(X_test)[i]])\n",
        "\n",
        "        # test를 진행하기 위해 0,1,2로 되어있던 데이터를 다시 문자 label로 변환\n",
        "        self.y_pred = pd.DataFrame(self.y_pred).replace({0:'setosa', 1:'versicolor', 2:'virginica'})\n",
        "        return self.y_pred\n",
        "    \n",
        "    # accuracy 확인\n",
        "    def evaluate(self, y_test):\n",
        "        print('Accuacy : {: .5f}'.format(accuracy_score(y_test, self.y_pred)))"
      ],
      "metadata": {
        "id": "cE0Yj4kZSLnN"
      },
      "id": "cE0Yj4kZSLnN",
      "execution_count": null,
      "outputs": []
    },
    {
      "cell_type": "code",
      "source": [
        "onevsrest = OneVsRestSVM()\n",
        "onevsrest.fit(X_train, y_train)"
      ],
      "metadata": {
        "id": "WluPtgmuSLpL"
      },
      "id": "WluPtgmuSLpL",
      "execution_count": null,
      "outputs": []
    },
    {
      "cell_type": "code",
      "source": [
        "y_pred_rest = onevsrest.predict(X_test)\n",
        "y_pred_rest"
      ],
      "metadata": {
        "colab": {
          "base_uri": "https://localhost:8080/",
          "height": 990
        },
        "id": "s7y08FjlSOC5",
        "outputId": "f4a84296-42fe-4185-d8c1-396097400d3c"
      },
      "id": "s7y08FjlSOC5",
      "execution_count": null,
      "outputs": [
        {
          "output_type": "execute_result",
          "data": {
            "text/plain": [
              "             0\n",
              "0   versicolor\n",
              "1   versicolor\n",
              "2   versicolor\n",
              "3    virginica\n",
              "4    virginica\n",
              "5    virginica\n",
              "6       setosa\n",
              "7    virginica\n",
              "8       setosa\n",
              "9   versicolor\n",
              "10   virginica\n",
              "11      setosa\n",
              "12      setosa\n",
              "13   virginica\n",
              "14  versicolor\n",
              "15  versicolor\n",
              "16      setosa\n",
              "17  versicolor\n",
              "18   virginica\n",
              "19   virginica\n",
              "20      setosa\n",
              "21   virginica\n",
              "22  versicolor\n",
              "23  versicolor\n",
              "24   virginica\n",
              "25      setosa\n",
              "26      setosa\n",
              "27   virginica\n",
              "28   virginica\n",
              "29  versicolor"
            ],
            "text/html": [
              "\n",
              "  <div id=\"df-b9db62b9-284b-45bd-affa-eecb12625245\">\n",
              "    <div class=\"colab-df-container\">\n",
              "      <div>\n",
              "<style scoped>\n",
              "    .dataframe tbody tr th:only-of-type {\n",
              "        vertical-align: middle;\n",
              "    }\n",
              "\n",
              "    .dataframe tbody tr th {\n",
              "        vertical-align: top;\n",
              "    }\n",
              "\n",
              "    .dataframe thead th {\n",
              "        text-align: right;\n",
              "    }\n",
              "</style>\n",
              "<table border=\"1\" class=\"dataframe\">\n",
              "  <thead>\n",
              "    <tr style=\"text-align: right;\">\n",
              "      <th></th>\n",
              "      <th>0</th>\n",
              "    </tr>\n",
              "  </thead>\n",
              "  <tbody>\n",
              "    <tr>\n",
              "      <th>0</th>\n",
              "      <td>versicolor</td>\n",
              "    </tr>\n",
              "    <tr>\n",
              "      <th>1</th>\n",
              "      <td>versicolor</td>\n",
              "    </tr>\n",
              "    <tr>\n",
              "      <th>2</th>\n",
              "      <td>versicolor</td>\n",
              "    </tr>\n",
              "    <tr>\n",
              "      <th>3</th>\n",
              "      <td>virginica</td>\n",
              "    </tr>\n",
              "    <tr>\n",
              "      <th>4</th>\n",
              "      <td>virginica</td>\n",
              "    </tr>\n",
              "    <tr>\n",
              "      <th>5</th>\n",
              "      <td>virginica</td>\n",
              "    </tr>\n",
              "    <tr>\n",
              "      <th>6</th>\n",
              "      <td>setosa</td>\n",
              "    </tr>\n",
              "    <tr>\n",
              "      <th>7</th>\n",
              "      <td>virginica</td>\n",
              "    </tr>\n",
              "    <tr>\n",
              "      <th>8</th>\n",
              "      <td>setosa</td>\n",
              "    </tr>\n",
              "    <tr>\n",
              "      <th>9</th>\n",
              "      <td>versicolor</td>\n",
              "    </tr>\n",
              "    <tr>\n",
              "      <th>10</th>\n",
              "      <td>virginica</td>\n",
              "    </tr>\n",
              "    <tr>\n",
              "      <th>11</th>\n",
              "      <td>setosa</td>\n",
              "    </tr>\n",
              "    <tr>\n",
              "      <th>12</th>\n",
              "      <td>setosa</td>\n",
              "    </tr>\n",
              "    <tr>\n",
              "      <th>13</th>\n",
              "      <td>virginica</td>\n",
              "    </tr>\n",
              "    <tr>\n",
              "      <th>14</th>\n",
              "      <td>versicolor</td>\n",
              "    </tr>\n",
              "    <tr>\n",
              "      <th>15</th>\n",
              "      <td>versicolor</td>\n",
              "    </tr>\n",
              "    <tr>\n",
              "      <th>16</th>\n",
              "      <td>setosa</td>\n",
              "    </tr>\n",
              "    <tr>\n",
              "      <th>17</th>\n",
              "      <td>versicolor</td>\n",
              "    </tr>\n",
              "    <tr>\n",
              "      <th>18</th>\n",
              "      <td>virginica</td>\n",
              "    </tr>\n",
              "    <tr>\n",
              "      <th>19</th>\n",
              "      <td>virginica</td>\n",
              "    </tr>\n",
              "    <tr>\n",
              "      <th>20</th>\n",
              "      <td>setosa</td>\n",
              "    </tr>\n",
              "    <tr>\n",
              "      <th>21</th>\n",
              "      <td>virginica</td>\n",
              "    </tr>\n",
              "    <tr>\n",
              "      <th>22</th>\n",
              "      <td>versicolor</td>\n",
              "    </tr>\n",
              "    <tr>\n",
              "      <th>23</th>\n",
              "      <td>versicolor</td>\n",
              "    </tr>\n",
              "    <tr>\n",
              "      <th>24</th>\n",
              "      <td>virginica</td>\n",
              "    </tr>\n",
              "    <tr>\n",
              "      <th>25</th>\n",
              "      <td>setosa</td>\n",
              "    </tr>\n",
              "    <tr>\n",
              "      <th>26</th>\n",
              "      <td>setosa</td>\n",
              "    </tr>\n",
              "    <tr>\n",
              "      <th>27</th>\n",
              "      <td>virginica</td>\n",
              "    </tr>\n",
              "    <tr>\n",
              "      <th>28</th>\n",
              "      <td>virginica</td>\n",
              "    </tr>\n",
              "    <tr>\n",
              "      <th>29</th>\n",
              "      <td>versicolor</td>\n",
              "    </tr>\n",
              "  </tbody>\n",
              "</table>\n",
              "</div>\n",
              "      <button class=\"colab-df-convert\" onclick=\"convertToInteractive('df-b9db62b9-284b-45bd-affa-eecb12625245')\"\n",
              "              title=\"Convert this dataframe to an interactive table.\"\n",
              "              style=\"display:none;\">\n",
              "        \n",
              "  <svg xmlns=\"http://www.w3.org/2000/svg\" height=\"24px\"viewBox=\"0 0 24 24\"\n",
              "       width=\"24px\">\n",
              "    <path d=\"M0 0h24v24H0V0z\" fill=\"none\"/>\n",
              "    <path d=\"M18.56 5.44l.94 2.06.94-2.06 2.06-.94-2.06-.94-.94-2.06-.94 2.06-2.06.94zm-11 1L8.5 8.5l.94-2.06 2.06-.94-2.06-.94L8.5 2.5l-.94 2.06-2.06.94zm10 10l.94 2.06.94-2.06 2.06-.94-2.06-.94-.94-2.06-.94 2.06-2.06.94z\"/><path d=\"M17.41 7.96l-1.37-1.37c-.4-.4-.92-.59-1.43-.59-.52 0-1.04.2-1.43.59L10.3 9.45l-7.72 7.72c-.78.78-.78 2.05 0 2.83L4 21.41c.39.39.9.59 1.41.59.51 0 1.02-.2 1.41-.59l7.78-7.78 2.81-2.81c.8-.78.8-2.07 0-2.86zM5.41 20L4 18.59l7.72-7.72 1.47 1.35L5.41 20z\"/>\n",
              "  </svg>\n",
              "      </button>\n",
              "      \n",
              "  <style>\n",
              "    .colab-df-container {\n",
              "      display:flex;\n",
              "      flex-wrap:wrap;\n",
              "      gap: 12px;\n",
              "    }\n",
              "\n",
              "    .colab-df-convert {\n",
              "      background-color: #E8F0FE;\n",
              "      border: none;\n",
              "      border-radius: 50%;\n",
              "      cursor: pointer;\n",
              "      display: none;\n",
              "      fill: #1967D2;\n",
              "      height: 32px;\n",
              "      padding: 0 0 0 0;\n",
              "      width: 32px;\n",
              "    }\n",
              "\n",
              "    .colab-df-convert:hover {\n",
              "      background-color: #E2EBFA;\n",
              "      box-shadow: 0px 1px 2px rgba(60, 64, 67, 0.3), 0px 1px 3px 1px rgba(60, 64, 67, 0.15);\n",
              "      fill: #174EA6;\n",
              "    }\n",
              "\n",
              "    [theme=dark] .colab-df-convert {\n",
              "      background-color: #3B4455;\n",
              "      fill: #D2E3FC;\n",
              "    }\n",
              "\n",
              "    [theme=dark] .colab-df-convert:hover {\n",
              "      background-color: #434B5C;\n",
              "      box-shadow: 0px 1px 3px 1px rgba(0, 0, 0, 0.15);\n",
              "      filter: drop-shadow(0px 1px 2px rgba(0, 0, 0, 0.3));\n",
              "      fill: #FFFFFF;\n",
              "    }\n",
              "  </style>\n",
              "\n",
              "      <script>\n",
              "        const buttonEl =\n",
              "          document.querySelector('#df-b9db62b9-284b-45bd-affa-eecb12625245 button.colab-df-convert');\n",
              "        buttonEl.style.display =\n",
              "          google.colab.kernel.accessAllowed ? 'block' : 'none';\n",
              "\n",
              "        async function convertToInteractive(key) {\n",
              "          const element = document.querySelector('#df-b9db62b9-284b-45bd-affa-eecb12625245');\n",
              "          const dataTable =\n",
              "            await google.colab.kernel.invokeFunction('convertToInteractive',\n",
              "                                                     [key], {});\n",
              "          if (!dataTable) return;\n",
              "\n",
              "          const docLinkHtml = 'Like what you see? Visit the ' +\n",
              "            '<a target=\"_blank\" href=https://colab.research.google.com/notebooks/data_table.ipynb>data table notebook</a>'\n",
              "            + ' to learn more about interactive tables.';\n",
              "          element.innerHTML = '';\n",
              "          dataTable['output_type'] = 'display_data';\n",
              "          await google.colab.output.renderOutput(dataTable, element);\n",
              "          const docLink = document.createElement('div');\n",
              "          docLink.innerHTML = docLinkHtml;\n",
              "          element.appendChild(docLink);\n",
              "        }\n",
              "      </script>\n",
              "    </div>\n",
              "  </div>\n",
              "  "
            ]
          },
          "metadata": {},
          "execution_count": 12
        }
      ]
    },
    {
      "cell_type": "code",
      "source": [
        "onevsrest.evaluate(y_test)"
      ],
      "metadata": {
        "colab": {
          "base_uri": "https://localhost:8080/"
        },
        "id": "TZOD32F6SPJm",
        "outputId": "18898a68-6dd8-4239-f41a-19ba9a4f644f"
      },
      "id": "TZOD32F6SPJm",
      "execution_count": null,
      "outputs": [
        {
          "output_type": "stream",
          "name": "stdout",
          "text": [
            "Accuacy :  0.86667\n"
          ]
        }
      ]
    },
    {
      "cell_type": "code",
      "source": [
        ""
      ],
      "metadata": {
        "id": "6LHIu-I3SR-v"
      },
      "id": "6LHIu-I3SR-v",
      "execution_count": null,
      "outputs": []
    },
    {
      "cell_type": "markdown",
      "source": [
        "sklearn 라이브러리에서 제공하는 SVM활용법"
      ],
      "metadata": {
        "id": "7NybabusTmmP"
      },
      "id": "7NybabusTmmP"
    },
    {
      "cell_type": "code",
      "source": [
        "from sklearn.datasets import load_digits"
      ],
      "metadata": {
        "id": "iVsgdVhsTqvm"
      },
      "id": "iVsgdVhsTqvm",
      "execution_count": null,
      "outputs": []
    },
    {
      "cell_type": "code",
      "source": [
        "class SVM_OVR:\n",
        "    def __init__(self, num_classes, kernel, C, gamma):\n",
        "        self.num_classes = num_classes\n",
        "        self.clfs = [SVC(kernel = kernel, C = C, gamma = gamma) for _ in range(num_classes)]\n",
        "        self.classes = None\n",
        "        \n",
        "    def fit(self, X_train, y_train):\n",
        "        y_train = pd.get_dummies(y_train)\n",
        "        for i in range(self.num_classes):\n",
        "            self.clfs[i].fit(X_train,y_train.iloc[:,i]) \n",
        "        self.classes = y_train.columns\n",
        "    \n",
        "    def predict(self, X_test):\n",
        "        pred_df = pd.DataFrame([svm.predict(X_test) for svm in self.clfs]).T \n",
        "        decisions = np.array([svm.decision_function(X_test) for svm in self.clfs]).T \n",
        "        \n",
        "        final_pred = []\n",
        "        for i in range(len(pred_df)):\n",
        "\n",
        "            if sum(pred_df.iloc[i]) == 1:\n",
        "                label = pred_df.iloc[i][pred_df.iloc[i] == 1].index[0]\n",
        "                final_pred.append(self.classes[label])\n",
        "            \n",
        "            \n",
        "            else:\n",
        "                label = np.argmax(decisions[i])\n",
        "                final_pred.append(self.classes[label])\n",
        "        \n",
        "        return final_pred"
      ],
      "metadata": {
        "id": "H25oyfXPT4G4"
      },
      "id": "H25oyfXPT4G4",
      "execution_count": null,
      "outputs": []
    },
    {
      "cell_type": "code",
      "source": [
        "mnist = load_digits()\n",
        "X = pd.DataFrame(mnist.data)\n",
        "y = pd.Series(mnist.target)"
      ],
      "metadata": {
        "id": "lhHET82sTryq"
      },
      "id": "lhHET82sTryq",
      "execution_count": null,
      "outputs": []
    },
    {
      "cell_type": "code",
      "source": [
        "X /= 16"
      ],
      "metadata": {
        "id": "mjC5XMX3TsnC"
      },
      "id": "mjC5XMX3TsnC",
      "execution_count": null,
      "outputs": []
    },
    {
      "cell_type": "code",
      "source": [
        "X_train, X_test, y_train, y_test = train_test_split(X, y, test_size=0.2, random_state=317)"
      ],
      "metadata": {
        "id": "iQCRBsN0Ttjv"
      },
      "id": "iQCRBsN0Ttjv",
      "execution_count": null,
      "outputs": []
    },
    {
      "cell_type": "code",
      "source": [
        "clf = SVM_OVR(num_classes = 10, kernel = 'rbf', C = 1, gamma = 1)\n",
        "clf.fit(X_train, y_train)\n",
        "pred = clf.predict(X_test)"
      ],
      "metadata": {
        "id": "L1nXeYIeTuWP"
      },
      "id": "L1nXeYIeTuWP",
      "execution_count": null,
      "outputs": []
    },
    {
      "cell_type": "code",
      "source": [
        "accuracy_score(y_test, pred)"
      ],
      "metadata": {
        "colab": {
          "base_uri": "https://localhost:8080/"
        },
        "id": "EGbmqhZgTvQR",
        "outputId": "4835ba37-4069-4e1a-b2f4-81dfce62f3eb"
      },
      "id": "EGbmqhZgTvQR",
      "execution_count": null,
      "outputs": [
        {
          "output_type": "execute_result",
          "data": {
            "text/plain": [
              "0.9888888888888889"
            ]
          },
          "metadata": {},
          "execution_count": 21
        }
      ]
    },
    {
      "cell_type": "markdown",
      "source": [
        " 이진 분류기인 SVM을 이용하여 다중 클래스 분류 방법\n",
        " OvR은 숫자 하나 대 나머지를 비교하는 전략입니다. One-versus-all(OvA)라고도 합니다.\n",
        "숫자별로 숫자 하나만 구별하는 이진 분류기를 만들어서 점수를 매깁니다. 그럼 10개의 점수가 나오는데 이중에서 가장 높은 점수가 나오는 것을 선택하는 방식입니다. \n",
        "MNIST 같은 경우 0~9 까지 10개 숫자가 있는데 10개의 숫자를 하나씩 뽑아서 다른 숫자와 구별하는 이진 분류기 10개를 만들어 각각의 점수를 매기는 작업을 하게 됩니다.\n",
        "\n",
        "OvO는 1대1로 이진분류기를 만드는 방법입니다. \n",
        "MNIST로 예를 보면 10개의 숫자 하나와 숫자 하나를 매칭시켜 45개의 분류기(10개에서 2개를 뽑는 조합)를 만듭니다. 이미지 분류하기 위해 그림마다 45개의 분류기를 모두 통과시켜 양성이 가장 많은 클래스로 분류시키는 방법입니다.\n",
        "작게 나눠서 훈련시키는 쪽이 유리한 알고리즘에 사용됩니다. \n",
        "대부분은 OvR을 선호하기는 합니다.\n"
      ],
      "metadata": {
        "id": "DSAolXrUUIMI"
      },
      "id": "DSAolXrUUIMI"
    },
    {
      "cell_type": "code",
      "source": [
        ""
      ],
      "metadata": {
        "id": "c6L-oDQDUaDc"
      },
      "id": "c6L-oDQDUaDc",
      "execution_count": null,
      "outputs": []
    }
  ],
  "metadata": {
    "kernelspec": {
      "display_name": "Python 3",
      "language": "python",
      "name": "python3"
    },
    "language_info": {
      "codemirror_mode": {
        "name": "ipython",
        "version": 3
      },
      "file_extension": ".py",
      "mimetype": "text/x-python",
      "name": "python",
      "nbconvert_exporter": "python",
      "pygments_lexer": "ipython3",
      "version": "3.8.8"
    },
    "colab": {
      "name": "Assignment_ SVM.ipynb",
      "provenance": [],
      "collapsed_sections": []
    }
  },
  "nbformat": 4,
  "nbformat_minor": 5
}